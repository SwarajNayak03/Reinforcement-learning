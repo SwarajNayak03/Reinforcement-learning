{
  "nbformat": 4,
  "nbformat_minor": 0,
  "metadata": {
    "colab": {
      "provenance": []
    },
    "kernelspec": {
      "name": "python3",
      "display_name": "Python 3"
    },
    "language_info": {
      "name": "python"
    }
  },
  "cells": [
    {
      "cell_type": "code",
      "execution_count": 1,
      "metadata": {
        "colab": {
          "base_uri": "https://localhost:8080/"
        },
        "id": "trmisKCyce8G",
        "outputId": "f1ccac2a-9a1a-493f-fdfd-487bf306648a"
      },
      "outputs": [
        {
          "output_type": "stream",
          "name": "stdout",
          "text": [
            "Initial policy [0, 0, 0, 0, 0]\n",
            "Iterations 2\n",
            "Final Policy\n",
            "[0, 1, 0, 1, 0]\n",
            "[ 487.890625  649.1875    852.25     1003.          4.      ]\n"
          ]
        }
      ],
      "source": [
        "import numpy as np\n",
        "\n",
        "states = [0, 1, 2, 3, 4]\n",
        "actions = [0, 1]\n",
        "N_STATES = len(states)\n",
        "N_ACTIONS = len(actions)\n",
        "P = np.zeros((N_STATES, N_ACTIONS, N_STATES))  # transition probability\n",
        "R = np.zeros((N_STATES, N_ACTIONS, N_STATES))  # rewards\n",
        "P[0, 0, 1] = 1.0\n",
        "P[1, 1, 2] = 1.0\n",
        "P[2, 0, 3] = 1.0\n",
        "P[3, 1, 4] = 1.0\n",
        "P[4, 0, 4] = 1.0\n",
        "\n",
        "R[0, 0, 1] = 1\n",
        "R[1, 1, 2] = 10\n",
        "R[2, 0, 3] = 100\n",
        "R[3, 1, 4] = 1000\n",
        "R[4, 0, 4] = 1.0\n",
        "gamma = 0.75\n",
        "\n",
        "# initialize policy and value arbitrarily\n",
        "policy = [0 for s in range(N_STATES)]\n",
        "V = np.zeros(N_STATES)\n",
        "\n",
        "print(\"Initial policy\", policy)\n",
        "\n",
        "is_policy_stable = False\n",
        "iterations = 0\n",
        "\n",
        "while not is_policy_stable:\n",
        "    iterations += 1\n",
        "    # Policy Evaluation\n",
        "    while True:\n",
        "        delta = 0\n",
        "        for s in range(N_STATES):\n",
        "            v = V[s]\n",
        "            V[s] = sum([P[s, policy[s], s1] * (R[s, policy[s], s1] + gamma * V[s1]) for s1 in range(N_STATES)])\n",
        "            delta = max(delta, abs(v - V[s]))\n",
        "        if delta < 1e-10:\n",
        "            break\n",
        "\n",
        "    # Policy Improvement\n",
        "    is_policy_stable = True\n",
        "    for s in range(N_STATES):\n",
        "        old_action = policy[s]\n",
        "        policy[s] = np.argmax([sum([P[s, a, s1] * (R[s, a, s1] + gamma * V[s1]) for s1 in range(N_STATES)]) for a in range(N_ACTIONS)])\n",
        "        if old_action != policy[s]:\n",
        "            is_policy_stable = False\n",
        "\n",
        "print(\"Iterations\", iterations)\n",
        "print(\"Final Policy\")\n",
        "print(policy)\n",
        "print(V)\n"
      ]
    }
  ]
}