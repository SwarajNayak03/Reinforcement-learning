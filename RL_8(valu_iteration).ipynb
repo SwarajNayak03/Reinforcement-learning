{
  "nbformat": 4,
  "nbformat_minor": 0,
  "metadata": {
    "colab": {
      "provenance": []
    },
    "kernelspec": {
      "name": "python3",
      "display_name": "Python 3"
    },
    "language_info": {
      "name": "python"
    }
  },
  "cells": [
    {
      "cell_type": "code",
      "execution_count": 1,
      "metadata": {
        "colab": {
          "base_uri": "https://localhost:8080/"
        },
        "id": "l5qFTrG9jU96",
        "outputId": "e155a1f7-7dc9-4dfd-8340-96e212440e25"
      },
      "outputs": [
        {
          "output_type": "stream",
          "name": "stdout",
          "text": [
            "Optimal Value Function: [65.53635465 80.09999102 88.99999102 99.99999102]\n",
            "Optimal Policy: [0, 1, 1, 0]\n"
          ]
        }
      ],
      "source": [
        "import numpy as np\n",
        "\n",
        "def value_iteration(states, actions, transitions, rewards, gamma=0.9, epsilon=1e-6, max_iterations=1000):\n",
        "    num_states = len(states)\n",
        "    num_actions = len(actions)\n",
        "\n",
        "    V = np.zeros(num_states)\n",
        "\n",
        "    for _ in range(max_iterations):\n",
        "        prev_V = np.copy(V)\n",
        "\n",
        "        for s in range(num_states):\n",
        "            Q_values = [sum(transitions[s, a, s_prime] * (rewards[s, a, s_prime] + gamma * V[s_prime])\n",
        "                            for s_prime in range(num_states)) for a in range(num_actions)]\n",
        "\n",
        "            V[s] = max(Q_values)\n",
        "\n",
        "        if np.max(np.abs(V - prev_V)) < epsilon:\n",
        "            break\n",
        "\n",
        "    policy = [np.argmax([sum(transitions[s, a, s_prime] * (rewards[s, a, s_prime] + gamma * V[s_prime])\n",
        "                              for s_prime in range(num_states)) for a in range(num_actions)])\n",
        "              for s in range(num_states)]\n",
        "\n",
        "    return V, policy\n",
        "\n",
        "# Example usage:\n",
        "states = [0, 1, 2, 3]\n",
        "actions = [0, 1]\n",
        "transitions = np.array([[[0.5, 0.5, 0, 0], [0.7, 0.3, 0, 0]],\n",
        "                        [[0, 0.8, 0.2, 0], [0, 0, 1, 0]],\n",
        "                        [[0, 0, 0.4, 0.6], [0, 0, 0, 1]],\n",
        "                        [[0, 0, 0, 1], [0, 0, 0, 1]]])\n",
        "rewards = np.array([[[1, -1, 0, 0], [2, 0, 0, 0]],\n",
        "                    [[0, -1, 0, 0], [0, 0, 0, 0]],\n",
        "                    [[0, 0, 5, -1], [0, 0, 0, -1]],\n",
        "                    [[0, 0, 0, 10], [0, 0, 0, 10]]])\n",
        "\n",
        "optimal_value_function, optimal_policy = value_iteration(states, actions, transitions, rewards)\n",
        "print(\"Optimal Value Function:\", optimal_value_function)\n",
        "print(\"Optimal Policy:\", optimal_policy)\n"
      ]
    }
  ]
}